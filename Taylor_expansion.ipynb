{
 "cells": [
  {
   "cell_type": "code",
   "execution_count": 1,
   "metadata": {},
   "outputs": [
    {
     "name": "stdout",
     "output_type": "stream",
     "text": [
      "IPython console for SymPy 1.10.1 (Python 3.8.10-64-bit) (ground types: python)\n",
      "\n",
      "These commands were executed:\n",
      ">>> from sympy import *\n",
      ">>> x, y, z, t = symbols('x y z t')\n",
      ">>> k, m, n = symbols('k m n', integer=True)\n",
      ">>> f, g, h = symbols('f g h', cls=Function)\n",
      ">>> init_printing()\n",
      "\n",
      "Documentation can be found at https://docs.sympy.org/1.10.1/\n",
      "\n"
     ]
    }
   ],
   "source": [
    "from __future__ import division\n",
    "import sympy as sym\n",
    "from sympy import init_session\n",
    "init_session()\n",
    "import math"
   ]
  },
  {
   "cell_type": "code",
   "execution_count": 2,
   "metadata": {},
   "outputs": [
    {
     "name": "stdout",
     "output_type": "stream",
     "text": [
      "7.822143548950747e-13\n"
     ]
    }
   ],
   "source": [
    "v = 0.9E08\n",
    "c = 3.0E08\n",
    "k = v/c\n",
    "m_rest = 1.8E-28\n",
    "exact = m_rest * c**2 * (1 / (math.sqrt(1 - v**2/c**2)) - 1)\n",
    "print(exact)"
   ]
  },
  {
   "cell_type": "code",
   "execution_count": 3,
   "metadata": {},
   "outputs": [
    {
     "name": "stdout",
     "output_type": "stream",
     "text": [
      "7.82214354895078e-13\n"
     ]
    }
   ],
   "source": [
    "from sympy import symbols\n",
    "x = symbols('x')\n",
    "n = int(input(\"Enter number of taylor terms\"))\n",
    "KE = 0\n",
    "for i in range(n):\n",
    "    KE= KE + (diff(1 / sqrt(1 - (x**2)), x, (i)) / math.factorial(i)) * (k**i)\n",
    "result = m_rest * c**2 * (KE.subs(x, 0) - 1)\n",
    "print (result)"
   ]
  },
  {
   "cell_type": "code",
   "execution_count": 4,
   "metadata": {},
   "outputs": [
    {
     "name": "stdout",
     "output_type": "stream",
     "text": [
      "4.51806698927712e-13\n"
     ]
    }
   ],
   "source": [
    "error = abs((result - exact) / exact) * 100\n",
    "print(error)"
   ]
  }
 ],
 "metadata": {
  "kernelspec": {
   "display_name": "Python 3.8.10 64-bit",
   "language": "python",
   "name": "python3"
  },
  "language_info": {
   "codemirror_mode": {
    "name": "ipython",
    "version": 3
   },
   "file_extension": ".py",
   "mimetype": "text/x-python",
   "name": "python",
   "nbconvert_exporter": "python",
   "pygments_lexer": "ipython3",
   "version": "3.8.10"
  },
  "orig_nbformat": 4,
  "vscode": {
   "interpreter": {
    "hash": "916dbcbb3f70747c44a77c7bcd40155683ae19c65e1c03b4aa3499c5328201f1"
   }
  }
 },
 "nbformat": 4,
 "nbformat_minor": 2
}
